{
 "cells": [
  {
   "cell_type": "code",
   "execution_count": 8,
   "id": "b9aac019-23de-4803-a617-4489cc6c2888",
   "metadata": {},
   "outputs": [],
   "source": [
    "#Importing all the Necessary Libraries\n",
    "import pandas as pd\n",
    "import numpy as np\n",
    "import matplotlib.pyplot as plt\n",
    "import seaborn as sns\n",
    "\n",
    "import warnings\n",
    "warnings.simplefilter(\"ignore\", UserWarning)"
   ]
  },
  {
   "cell_type": "code",
   "execution_count": 9,
   "id": "b85d0a2e-c8ab-47f3-9f27-e011cce76c81",
   "metadata": {},
   "outputs": [],
   "source": [
    "#Reading the cleaned patients data \n",
    "data_patients = pd.read_csv(\"final_patients.csv\")"
   ]
  },
  {
   "cell_type": "code",
   "execution_count": 12,
   "id": "6f01eb25-48c9-4a2b-adb9-d4611a11ef74",
   "metadata": {},
   "outputs": [
    {
     "name": "stdout",
     "output_type": "stream",
     "text": [
      "  patient_id        date      time  glucose  calories  heart_rate  steps  \\\n",
      "0  HUPA0001P  2018-06-13  18:40:00    332.0    6.3595   82.322835   34.0   \n",
      "1  HUPA0001P  2018-06-13  18:45:00    326.0    7.7280   83.740157    0.0   \n",
      "2  HUPA0001P  2018-06-13  18:50:00    330.0    4.7495   80.525180    0.0   \n",
      "3  HUPA0001P  2018-06-13  18:55:00    324.0    6.3595   89.129032   20.0   \n",
      "4  HUPA0001P  2018-06-13  19:00:00    306.0    5.1520   92.495652    0.0   \n",
      "\n",
      "   basal_rate  bolus_volume_delivered  carb_input  calories_cleaned  \\\n",
      "0    0.091667                     0.0         0.0              6.36   \n",
      "1    0.091667                     0.0         0.0              7.73   \n",
      "2    0.091667                     0.0         0.0              4.75   \n",
      "3    0.091667                     0.0         0.0              6.36   \n",
      "4    0.075000                     0.0         0.0              5.15   \n",
      "\n",
      "   heart_rate_cleaned  basal_rate_cleaned  \n",
      "0                82.3              0.0917  \n",
      "1                83.7              0.0917  \n",
      "2                80.5              0.0917  \n",
      "3                89.1              0.0917  \n",
      "4                92.5              0.0750  \n"
     ]
    }
   ],
   "source": [
    "#Creating a copy of the original data to work on, so that the original data is not modified\n",
    "df_patients=data_patients.copy()\n",
    "print(df_patients.head())"
   ]
  },
  {
   "cell_type": "markdown",
   "id": "f8b883cc-813b-42d6-887e-2ac965ee784f",
   "metadata": {},
   "source": [
    " Q1. What is the most common hour of the day for glucose spikes across all patients?\n",
    "\n",
    "Reasoning:\n",
    "Identifying peak glucose hours helps uncover behavioral or physiological patterns — such as post-meal spikes or medication timing effects. \n",
    "This insight can guide personalized scheduling for interventions or alerts.\n"
   ]
  },
  {
   "cell_type": "code",
   "execution_count": 88,
   "id": "588e6fe2-0561-490d-9231-d7e40ce41d61",
   "metadata": {},
   "outputs": [
    {
     "name": "stdout",
     "output_type": "stream",
     "text": [
      "\n",
      "Q. What is the most common hour of the day for glucose spikes across all patients?\n",
      "------------------------------------------------------------------------------------------\n",
      "Highest average glucose occurs at hour: 19:00\n",
      "Average glucose at that hour: 152.56 mg/dL\n",
      "\n",
      "Reasoning: Identifying the hour with peak glucose levels helps uncover behavioral or physiological patterns—\n",
      "such as post-meal spikes or medication timing effects. This insight can guide personalized scheduling for\n",
      "interventions, alerts, or lifestyle adjustments.\n"
     ]
    }
   ],
   "source": [
    "import pandas as pd\n",
    "\n",
    "# === Step 0: Load the cleaned CSV ===\n",
    "# Make sure 'date' and 'time' are read as strings so we preserve them exactly\n",
    "df_patients = pd.read_csv(\"final_patients.csv\", dtype={'date': str, 'time': str})\n",
    "\n",
    "# === Step 1: Combine date and time into a single datetime column ===\n",
    "df_patients['datetime'] = pd.to_datetime(\n",
    "    df_patients['date'] + ' ' + df_patients['time'],\n",
    "    format='%Y-%m-%d %H:%M:%S',\n",
    "    errors='coerce'\n",
    ")\n",
    "\n",
    "# === Step 2: Extract the hour from the datetime ===\n",
    "df_patients['hour'] = df_patients['datetime'].dt.hour\n",
    "\n",
    "# === Step 3: Group by hour and calculate average glucose ===\n",
    "# Drop rows with missing glucose values to avoid NaNs in the mean\n",
    "glucose_by_hour = (\n",
    "    df_patients\n",
    "    .dropna(subset=['glucose'])\n",
    "    .groupby('hour')['glucose']\n",
    "    .mean()\n",
    ")\n",
    "\n",
    "# === Step 4: Identify the hour with the highest average glucose ===\n",
    "peak_hour = glucose_by_hour.idxmax()\n",
    "peak_value = glucose_by_hour.max()\n",
    "\n",
    "# === Step 5: Print the results ===\n",
    "print(\"\\nQ. What is the most common hour of the day for glucose spikes across all patients?\")\n",
    "print(\"-\" * 90)\n",
    "print(f\"Highest average glucose occurs at hour: {peak_hour}:00\")\n",
    "print(f\"Average glucose at that hour: {peak_value:.2f} mg/dL\")\n",
    "\n",
    "print(\"\\nReasoning: Identifying the hour with peak glucose levels helps uncover behavioral or physiological patterns—\")\n",
    "print(\"such as post-meal spikes or medication timing effects. This insight can guide personalized scheduling for\")\n",
    "print(\"interventions, alerts, or lifestyle adjustments.\")\n"
   ]
  },
  {
   "cell_type": "markdown",
   "id": "21d5f4f6-671a-45d6-8075-67f683283ee0",
   "metadata": {},
   "source": [
    "Q2. Which patient has the highest variability in heart rate, and what might that indicate?\n",
    "Reasoning:\n",
    "High variability may signal stress, inconsistent sleep, or cardiovascular irregularities. \n",
    "Flagging such patients enables targeted review and potential clinical follow-up.\n"
   ]
  },
  {
   "cell_type": "code",
   "execution_count": 90,
   "id": "abb33b04-2c2b-4660-ae03-27761c76fde0",
   "metadata": {},
   "outputs": [
    {
     "name": "stdout",
     "output_type": "stream",
     "text": [
      "\n",
      "Q. Which patient shows the highest heart rate variability?\n",
      "--------------------------------------------------------------------------------\n",
      "Patient ID with highest variability: HUPA0019P\n",
      "Standard deviation of heart rate: 19.69 bpm\n",
      "\n",
      "Reasoning: High heart rate variability may indicate fluctuating stress levels, autonomic imbalance,\n",
      "or inconsistent measurement conditions. Identifying such patients can help flag cases for deeper\n",
      "clinical review or personalized monitoring strategies.\n"
     ]
    }
   ],
   "source": [
    "# Calculate heart rate variability\n",
    "hr_variability = df_patients.groupby('patient_id')['heart_rate_cleaned'].std()\n",
    "most_variable_patient = hr_variability.idxmax()\n",
    "highest_std = hr_variability.max()\n",
    "\n",
    "# Print the result\n",
    "print(\"\\nQ. Which patient shows the highest heart rate variability?\")\n",
    "print(\"-\" * 80)\n",
    "print(f\"Patient ID with highest variability: {most_variable_patient}\")\n",
    "print(f\"Standard deviation of heart rate: {highest_std:.2f} bpm\")\n",
    "\n",
    "print(\"\\nReasoning: High heart rate variability may indicate fluctuating stress levels, autonomic imbalance,\")\n",
    "print(\"or inconsistent measurement conditions. Identifying such patients can help flag cases for deeper\")\n",
    "print(\"clinical review or personalized monitoring strategies.\")\n"
   ]
  },
  {
   "cell_type": "markdown",
   "id": "d19fc612-3e17-4a73-81b2-adb0c4e62002",
   "metadata": {},
   "source": [
    "Q3. How many patients show consistent sleep disturbances (>30%) for at least 10 consecutive days?\n",
    "Reasoning:\n",
    "Short-term spikes may be noise, but sustained sleep issues suggest chronic patterns. This helps prioritize patients for behavioral or therapeutic support."
   ]
  },
  {
   "cell_type": "code",
   "execution_count": 38,
   "id": "8dd64f1c-b5c8-4880-accd-f20bbf97ca3a",
   "metadata": {},
   "outputs": [],
   "source": [
    "#Reading the cleaned patients_demographics data \n",
    "patients_demo = pd.read_csv(\"patients_demography.csv\")"
   ]
  },
  {
   "cell_type": "code",
   "execution_count": 100,
   "id": "a56ed681-49d8-4610-b093-26d21c929abb",
   "metadata": {},
   "outputs": [
    {
     "name": "stdout",
     "output_type": "stream",
     "text": [
      "\n",
      "Q. How many patients show consistent sleep disturbances (>30%) for at least 10 consecutive days?\n",
      "------------------------------------------------------------------------------------------\n",
      "Answer: 20 patients\n",
      "\n",
      "Reasoning: Sustained sleep disturbances may signal chronic stress, hormonal imbalance, or lifestyle factors.\n",
      "Identifying these patients helps prioritize interventions like sleep hygiene education, stress management,\n",
      "or clinical evaluation for underlying conditions.\n"
     ]
    },
    {
     "name": "stderr",
     "output_type": "stream",
     "text": [
      "C:\\Users\\mktem\\AppData\\Local\\Temp\\ipykernel_33732\\3351415099.py:27: DeprecationWarning: DataFrameGroupBy.apply operated on the grouping columns. This behavior is deprecated, and in a future version of pandas the grouping columns will be excluded from the operation. Either pass `include_groups=False` to exclude the groupings or explicitly select the grouping columns after groupby to silence this warning.\n",
      "  consistent_flags = df.groupby('patient_id').apply(lambda group: count_streaks(group, min_days))\n"
     ]
    }
   ],
   "source": [
    "import pandas as pd\n",
    "from datetime import datetime\n",
    "\n",
    "# Step 1: Preprocess and flag disturbances\n",
    "def preprocess_sleep_data(df, threshold=30):\n",
    "    df = df.copy()\n",
    "    df['date'] = pd.to_datetime(df['date'])\n",
    "    df = df.sort_values(['patient_id', 'date'])\n",
    "    df['disturbed'] = df['sleep_disturbances_percentage'] > threshold\n",
    "    return df\n",
    "\n",
    "# Step 2: Count streaks per patient\n",
    "def count_streaks(group, min_days=10):\n",
    "    streak = 0\n",
    "    max_streak = 0\n",
    "    for disturbed in group['disturbed']:\n",
    "        if disturbed:\n",
    "            streak += 1\n",
    "            max_streak = max(max_streak, streak)\n",
    "        else:\n",
    "            streak = 0\n",
    "    return max_streak >= min_days\n",
    "\n",
    "# Step 3: Apply streak detection across patients\n",
    "def detect_sleep_streaks(df, threshold=30, min_days=10):\n",
    "    df = preprocess_sleep_data(df, threshold)\n",
    "    consistent_flags = df.groupby('patient_id').apply(lambda group: count_streaks(group, min_days))\n",
    "    consistent_ids = consistent_flags[consistent_flags].index.tolist()\n",
    "    return consistent_flags, consistent_ids\n",
    "\n",
    "# Step 4: Run detection and summarize\n",
    "consistent_flags, consistent_ids = detect_sleep_streaks(patients_demo, threshold=30, min_days=10)\n",
    "num_consistent = len(consistent_ids)\n",
    "\n",
    "# Step 5: Output results\n",
    "print(\"\\nQ. How many patients show consistent sleep disturbances (>30%) for at least 10 consecutive days?\")\n",
    "print(\"-\" * 90)\n",
    "print(f\"Answer: {num_consistent} patients\")\n",
    "\n",
    "print(\"\\nReasoning: Sustained sleep disturbances may signal chronic stress, hormonal imbalance, or lifestyle factors.\")\n",
    "print(\"Identifying these patients helps prioritize interventions like sleep hygiene education, stress management,\")\n",
    "print(\"or clinical evaluation for underlying conditions.\")\n"
   ]
  },
  {
   "cell_type": "markdown",
   "id": "f2af9c15-f1e9-4475-8f81-b165a5058d77",
   "metadata": {},
   "source": [
    "Q4. What is the average number of records per day per patient, and does it vary significantly?\n",
    "Reasoning:\n",
    "This helps identify potential predictors or influencers of glucose, guiding feature selection for downstream modeling and hypothesis generation."
   ]
  },
  {
   "cell_type": "code",
   "execution_count": 98,
   "id": "9737dac6-1bdf-4887-9990-e9e02521aa33",
   "metadata": {},
   "outputs": [
    {
     "name": "stdout",
     "output_type": "stream",
     "text": [
      "\n",
      "Q. What is the average number of records per day per patient, and how much does it vary?\n",
      "------------------------------------------------------------------------------------------\n",
      "Average records/day per patient: 272.5\n",
      "Standard deviation across patients: 8.8\n",
      "\n",
      "Reasoning: This metric reflects data density and monitoring consistency.\n",
      "High variation may indicate device issues, patient non-compliance, or irregular logging patterns.\n",
      "Understanding this helps assess data reliability and guides preprocessing for downstream modeling.\n"
     ]
    }
   ],
   "source": [
    "import pandas as pd\n",
    "\n",
    "# === Step 0: Load the cleaned CSV ===\n",
    "df_patients = pd.read_csv(\"final_patients.csv\", dtype={'date': str})\n",
    "\n",
    "# === Step 1: Count records per patient per day ===\n",
    "records_per_day = df_patients.groupby(['patient_id', 'date']).size()\n",
    "\n",
    "# === Step 2: Calculate average records/day per patient ===\n",
    "avg_records = records_per_day.groupby('patient_id').mean()\n",
    "\n",
    "# === Step 3: Measure variation across patients ===\n",
    "variation = avg_records.std()\n",
    "\n",
    "# === Step 4: Print results ===\n",
    "print(\"\\nQ. What is the average number of records per day per patient, and how much does it vary?\")\n",
    "print(\"-\" * 90)\n",
    "print(f\"Average records/day per patient: {avg_records.mean():.1f}\")\n",
    "print(f\"Standard deviation across patients: {variation:.1f}\")\n",
    "\n",
    "print(\"\\nReasoning: This metric reflects data density and monitoring consistency.\")\n",
    "print(\"High variation may indicate device issues, patient non-compliance, or irregular logging patterns.\")\n",
    "print(\"Understanding this helps assess data reliability and guides preprocessing for downstream modeling.\")\n"
   ]
  },
  {
   "cell_type": "markdown",
   "id": "c7017ca2-a614-41f5-b786-e571656784d1",
   "metadata": {},
   "source": [
    "Q5. What is the average basal rate by hour of day?\n",
    "Reasoning:\n",
    "Insulin pumps often follow circadian rhythms — lower basal rates at night, higher during early morning due to dawn phenomenon.\n",
    "By plotting this as a line chart, you can visually detect whether patients are receiving appropriate basal adjustments across the day.\n",
    "This also helps validate whether your time-splitting logic (hour feature) is working as intended.\n"
   ]
  },
  {
   "cell_type": "code",
   "execution_count": 106,
   "id": "00c68bfd-a002-41ad-a5cf-34aaaad1cc96",
   "metadata": {},
   "outputs": [
    {
     "data": {
      "image/png": "[encoded data removed]",
      "text/plain": [
       "<Figure size 640x480 with 1 Axes>"
      ]
     },
     "metadata": {},
     "output_type": "display_data"
    }
   ],
   "source": [
    "import pandas as pd\n",
    "import seaborn as sns\n",
    "import matplotlib.pyplot as plt\n",
    "\n",
    "# Ensure 'time' column is in datetime format\n",
    "df_patients['time'] = pd.to_datetime(df_patients['time'])\n",
    "\n",
    "# Extract hour from time\n",
    "df_patients['hour'] = df_patients['time'].dt.hour\n",
    "\n",
    "# Group by hour and calculate average basal rate\n",
    "hourly_avg = df_patients.groupby('hour')['basal_rate_cleaned'].mean().reset_index()\n",
    "\n",
    "# Plot the average basal rate by hour\n",
    "sns.lineplot(data=hourly_avg, x='hour', y='basal_rate_cleaned', marker='o')\n",
    "plt.title('Average Basal Rate by Hour of Day')\n",
    "plt.xlabel('Hour')\n",
    "plt.ylabel('Basal Rate (U/hr)')\n",
    "plt.grid(True)\n",
    "plt.tight_layout()\n",
    "plt.show()\n",
    "\n"
   ]
  },
  {
   "cell_type": "markdown",
   "id": "5dcc435c-5d67-403e-8d40-208a03d8e96e",
   "metadata": {},
   "source": [
    "Q6. How does Glucose levels of the patients vary accross weekdays?\n",
    "Reasoning:\n",
    "Lifestyle factors (diet, stress, sleep) often fluctuate across the week — weekends may show higher glucose due to irregular routines.\n",
    "This question helps uncover behavioral patterns and can inform personalized education or intervention strategies.\n",
    "It also validates your dayofweek feature engineering and gives a quick sanity check on data coverage across days.\n"
   ]
  },
  {
   "cell_type": "code",
   "execution_count": 110,
   "id": "5f484eac-cc78-41d9-b0fc-968a80f65e4b",
   "metadata": {},
   "outputs": [
    {
     "name": "stderr",
     "output_type": "stream",
     "text": [
      "C:\\Users\\mktem\\AppData\\Local\\Temp\\ipykernel_33732\\920509193.py:20: FutureWarning: \n",
      "\n",
      "Passing `palette` without assigning `hue` is deprecated and will be removed in v0.14.0. Assign the `x` variable to `hue` and set `legend=False` for the same effect.\n",
      "\n",
      "  sns.barplot(data=weekday_avg, x='day_name', y='glucose', palette='coolwarm')\n"
     ]
    },
    {
     "data": {
      "image/png": "[encoded data removed]",
      "text/plain": [
       "<Figure size 640x480 with 1 Axes>"
      ]
     },
     "metadata": {},
     "output_type": "display_data"
    }
   ],
   "source": [
    "import pandas as pd\n",
    "import seaborn as sns\n",
    "import matplotlib.pyplot as plt\n",
    "\n",
    "# Ensure 'date' column is in datetime format\n",
    "df_patients['date'] = pd.to_datetime(df_patients['date'])\n",
    "\n",
    "# Extract day of week (0 = Monday, 6 = Sunday)\n",
    "df_patients['dayofweek'] = df_patients['date'].dt.dayofweek\n",
    "\n",
    "# Group and calculate average glucose\n",
    "weekday_avg = df_patients.groupby('dayofweek', as_index=False)['glucose'].mean()\n",
    "weekday_avg['glucose'] = weekday_avg['glucose'].round(1)\n",
    "\n",
    "# Map numeric day to weekday name\n",
    "weekday_names = ['Mon', 'Tue', 'Wed', 'Thu', 'Fri', 'Sat', 'Sun']\n",
    "weekday_avg['day_name'] = weekday_avg['dayofweek'].map(dict(enumerate(weekday_names)))\n",
    "\n",
    "# Plot\n",
    "sns.barplot(data=weekday_avg, x='day_name', y='glucose', palette='coolwarm')\n",
    "plt.title('Average Glucose by Day of Week')\n",
    "plt.xlabel('Day of Week')\n",
    "plt.ylabel('Glucose (mg/dL)')\n",
    "plt.grid(axis='y')\n",
    "plt.tight_layout()\n",
    "plt.show()\n"
   ]
  },
  {
   "cell_type": "code",
   "execution_count": null,
   "id": "58253bd5-7f57-42ab-9acf-b68bd1491232",
   "metadata": {},
   "outputs": [],
   "source": []
  }
 ],
 "metadata": {
  "kernelspec": {
   "display_name": "Python [conda env:base] *",
   "language": "python",
   "name": "conda-base-py"
  },
  "language_info": {
   "codemirror_mode": {
    "name": "ipython",
    "version": 3
   },
   "file_extension": ".py",
   "mimetype": "text/x-python",
   "name": "python",
   "nbconvert_exporter": "python",
   "pygments_lexer": "ipython3",
   "version": "3.12.7"
  }
 },
 "nbformat": 4,
 "nbformat_minor": 5
}
