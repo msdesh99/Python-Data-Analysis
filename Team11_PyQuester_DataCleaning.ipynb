{
 "cells": [
  {
   "cell_type": "markdown",
   "id": "4d28b82a-f358-483a-9fec-585686539a31",
   "metadata": {},
   "source": [
    "<pre><strong>Three datasets are created \n",
    " These Datasets are created after cleaning all the datasets provided \n",
    " All_PATIENTS.csv This Dataset contains all 25 patients data from HCPA000*P.csv\n",
    " DEMOGRAPHIC.csv This dataset contains demogrpahic data provided in  \"T1DM_patient_sleep_demographics_with_race.csv\"\n",
    " PATINETS_WITH_DEMOGRAPHIC.csv This dataset is merge of above two datasets\n",
    " This Jupyter notebooks has cells:\n",
    "     import modules\n",
    "     Declare variables\n",
    "     Create common function for row level Quality Check\n",
    "     Create function for column level quality check of Demographic dataset\n",
    "     Create a dataframe by merging all csv files having patient data\n",
    "     Data Cleaning and Standardization for all patients dataframe\n",
    "         Time Conversion\n",
    "         Insulin Dose Cleaning\n",
    "         Heart Rate\n",
    "         Basal Insulin Rate\n",
    "         Calories\n",
    "         Glucose\n",
    "     Write cleaned allpatients dataset into All_PATIENTS.csv file\n",
    "     Create a dataframe using \"T1DM_patient_sleep_demographics_with_race.csv\" file\n",
    "     Data Cleaning and Standardization for demographic dataframe\n",
    "     Dataframe for demographic data by renaming all column names to lowercase with underscore\n",
    "     betweeen words and created csv file\n",
    "     Dataframe for merged allpatients and demographic data and created csv file</strong></pre>"
   ]
  },
  {
   "cell_type": "code",
   "execution_count": 1,
   "id": "7a79b52c-e552-499a-96b9-fb3a7edaf0fc",
   "metadata": {},
   "outputs": [],
   "source": [
    "# import modules\n",
    "import pandas as pd\n",
    "import numpy as np\n",
    "import matplotlib.pyplot as plt\n",
    "import seaborn as sns\n",
    "import glob\n",
    "import os"
   ]
  },
  {
   "cell_type": "markdown",
   "id": "fed82a03-81d0-45af-aa9f-a120f75f1037",
   "metadata": {},
   "source": [
    "**This section defines the file paths for the HUPA-UC Diabetes Dataset and various CSV outputs.**"
   ]
  },
  {
   "cell_type": "code",
   "execution_count": 2,
   "id": "9d31d8dc-d839-470e-bf0d-09f88bf224d9",
   "metadata": {},
   "outputs": [
    {
     "name": "stdout",
     "output_type": "stream",
     "text": [
      "HUPA-UC Diabetes Dataset/T1DM_patient_sleep_demographics_with_race.csv\n"
     ]
    }
   ],
   "source": [
    "#Variables\n",
    "path = \"HUPA-UC Diabetes Dataset/\"\n",
    "demographic_path = path + \"T1DM_patient_sleep_demographics_with_race.csv\"\n",
    "all_patients_path = path + \"ALL_PATIENTS.csv\"\n",
    "modified_demographic_path = path+\"DEMOGRAPHIC.csv\"\n",
    "patients_demographic_path = path +\"PATIENTS_WITH_DEMOGRAPHIC.csv\"\n",
    "print(demographic_path)"
   ]
  },
  {
   "cell_type": "markdown",
   "id": "d07a90ce-19ee-4f38-b2ab-2b8e3815fe14",
   "metadata": {},
   "source": [
    "**Common function for row level Quality Check**"
   ]
  },
  {
   "cell_type": "code",
   "execution_count": 3,
   "id": "618ec7bd-0f41-4285-a2f1-18d287c37ca6",
   "metadata": {},
   "outputs": [],
   "source": [
    "def data_quality_report_common(df):\n",
    "    print(\"DATA QUALITY REPORT\")\n",
    "    print(\"=\"*50)\n",
    "    \n",
    "    # Shape\n",
    "    print(f\"Rows: {df.shape[0]}, Columns: {df.shape[1]}\")\n",
    "    print(\"=\"*50)\n",
    "    \n",
    "    # Missing values\n",
    "    print(\"*\"*50)\n",
    "    print(\"\\n Check for Missing Values:\")\n",
    "    print(\"*\"*50)\n",
    "    print(\"\\n Number of missing column values are:\\n\",df.isnull().sum(), \" \")\n",
    "    \n",
    "    # Duplicates\n",
    "    print(\"*\"*50)\n",
    "    print(\"\\n Check for Duplicate Rows:\")\n",
    "    print(\"*\"*50)\n",
    "    print(\"\\n Number of duplicate rows  are :\", df.duplicated().sum())\n",
    "    \n",
    "    # Data types\n",
    "    print(\"*\"*50)\n",
    "    print(\"\\n Check for Column Data Types:\")\n",
    "    print(\"*\"*50)\n",
    "    print(df.dtypes)\n",
    "    \n",
    "    # Unique Patient IDs\n",
    "    if \"patient_id\" in df.columns:\n",
    "        print(\"*\"*50)\n",
    "        print(\"\\n Check for Patient IDs uniqueness and number of records:\")\n",
    "        print(\"*\"*50)\n",
    "        print(\"Number of Unique Patient IDs:\", df['patient_id'].nunique())\n",
    "        print(\"Total patient records are  :\", len(df))\n",
    "    \n",
    "    # Numeric ranges\n",
    "    print(\"*\"*50)\n",
    "    print(\"\\n Check for Numeric Column Summary:\")\n",
    "    print(\"*\"*50)\n",
    "    print(df.describe().T[['min', 'max', 'mean']])\n",
    "    "
   ]
  },
  {
   "cell_type": "markdown",
   "id": "0adf6be2-934c-462a-8e6c-9e04325a3ef0",
   "metadata": {},
   "source": [
    "**Function for column level quality check of allpatients dataset**"
   ]
  },
  {
   "cell_type": "code",
   "execution_count": 4,
   "id": "eb26691b-0479-4667-9ecc-22e097382e8e",
   "metadata": {},
   "outputs": [],
   "source": [
    "#Check for impossible or outlier values fro allpatients dataset\n",
    "def allpatients_data_quality_report(df):\n",
    "    # Time range\n",
    "    if \"time\" in df.columns:\n",
    "        print(\"*\"*50)\n",
    "        print(\"\\n Check for Time Range to check if time is continuous :\")\n",
    "        print(\"*\"*50)\n",
    "        print(\"Earliest time :\", df['time'].min())\n",
    "        print(\"Latest time  :\", df['time'].max())\n",
    "        \n",
    "    \n",
    "    #Check for impossible or outlier values\n",
    "    print(\"*\"*50)\n",
    "    print(\"\\n Check for Impossible or outlier values:\")\n",
    "    print(\"*\"*50)\n",
    "    print(\"Negative glucose values:\", (df['glucose'] < 0).sum())\n",
    "    print(\"Negative steps values:\", (df['steps'] < 0).sum())\n",
    "    print(\"Negative calories values:\", (df['calories'] < 0).sum())\n",
    "    print(\"Negative heart_rate values:\", (df['heart_rate'] < 0).sum())\n",
    "    print(\"Negative glucose:\", (df['glucose'] < 0).sum())\n",
    "    print(\"Unrealistic glucose > 600:\", (df['glucose'] > 600).sum())\n",
    "    print(\"Negative Insulin dose administered(bolus_volume_delivered) values:\", (df['bolus_volume_delivered'] < 0).sum())\n",
    "    # print('Number of invalid age value (0-100)', ((df['age']<0) | (df['age']>100)).sum())\n",
    "    # print(\"Number of invalid Gender values not ['Male'], ['Female']\", \n",
    "    #       ((df['gender']!='Male') & (df['gender']!='Female')).sum())\n",
    "    # print(\"Number of avg sleep hours greater than 24\", (df['avg_sleep_duration_hrs']>24).sum())\n",
    "    # print(\"Number of invalid sleep quality score value(1-10)\", \n",
    "    #       ((df['sleep_quality_score']<1) & (df['sleep_quality_score']>10)).sum())\n",
    "    # print(\"Number of invalid sleep disturbances percentage >100\",(df['sleep_disturbances_percentage']>100).sum())\n",
    "    \n",
    "\n",
    "    #check for range of values\n",
    "    print(\"*\"*50)\n",
    "    print(\"\\n Check for range of  values for Glucose Hear rate ,Calories ,Insulin dose administered (units) and Steps:\")\n",
    "    print(\"*\"*50)\n",
    "    print(\"Glucose range:\", df['glucose'].min(), \"-\", df['glucose'].max())\n",
    "    print(\"Heart rate range:\", df['heart_rate'].min(), \"-\", df['heart_rate'].max())\n",
    "    print(\"Calories range:\", df['calories'].min(), \"-\", df['calories'].max())\n",
    "    print(\"Steps range:\", df['steps'].min(), \"-\", df['steps'].max())\n",
    "    print(\"Insulin dose administered (units) range:\", df['basal_rate'].min(), \"-\", df['basal_rate'].max())\n",
    "    print(\"=\"*50)\n",
    "\n",
    "    print(\"DATA QUALITY REPORT Completed\")\n"
   ]
  },
  {
   "cell_type": "markdown",
   "id": "4855a8c6-c2d4-41b1-a9f4-854b7031a1a6",
   "metadata": {},
   "source": [
    "**Function for column level quality check of Demographic dataset**"
   ]
  },
  {
   "cell_type": "code",
   "execution_count": 5,
   "id": "c2a443c1-17ac-4487-b718-8b152c5ea7ee",
   "metadata": {},
   "outputs": [],
   "source": [
    " #Check for impossible or outlier values for demographic dataset\n",
    "def demographic_data_quality_report(df):\n",
    "     #Check for impossible or outlier values\n",
    "    print(\"*\"*50)\n",
    "    print(\"\\n Check for Impossible or outlier values:\")\n",
    "    print(\"*\"*50)\n",
    "    print('Number of invalid age value (0-100)', ((demographic_df['age']<0) | (demographic_df['age']>100)).sum())\n",
    "    print(\"Number of invalid Gender values not ['Male'], ['Female']\", \n",
    "          ((demographic_df['gender']!='Male') & (demographic_df['gender']!='Female')).sum())\n",
    "    print(\"Number of avg sleep hours greater than 24\", (demographic_df['avg_sleep_duration_hrs']>24).sum())\n",
    "    print(\"Number of invalid sleep quality score value(1-10)\", \n",
    "          ((demographic_df['sleep_quality_score']<1) & (demographic_df['sleep_quality_score']>10)).sum())\n",
    "    print(\"Number of invalid sleep disturbances percentage >100\",(demographic_df['sleep_disturbances_percentage']>100).sum())\n",
    "    print(\"=\"*50)\n"
   ]
  },
  {
   "cell_type": "markdown",
   "id": "deb1ba6c-2d08-48dc-b249-acb1849b8247",
   "metadata": {},
   "source": [
    "**This code reads all CSV files containing patient data, adds a patient_id column based on the filename, concatenates them into a single DataFrame, and saves it as a new CSV file.**\n",
    "\n",
    "**Key Steps:**\n",
    "\n",
    "- **List CSV Files:** Use `glob` to get all patient CSV files starting with \"H\".\n",
    "- **Read & Annotate:** Read each CSV and add a `patient_id` column extracted from the filename.\n",
    "- **Concatenate DataFrames:** Merge all individual DataFrames into one using `pd.concat()`.\n",
    "- **Save CSV:** Export the combined DataFrame to a CSV file without the index column.\n"
   ]
  },
  {
   "cell_type": "code",
   "execution_count": 6,
   "id": "403aaffa-95a9-4198-96a1-1ac96f26a03d",
   "metadata": {},
   "outputs": [],
   "source": [
    "#Creating a dataframe by merging all csv files having patient data\n",
    "csv_files = glob.glob(os.path.join(path,\"H*.csv\"))\n",
    "df_list =[]\n",
    "for file in csv_files:\n",
    "    patientId = os.path.basename(file).split(\".\")[0]\n",
    "    df = pd.read_csv(file,sep=\";\")\n",
    "    df[\"patient_id\"] = patientId\n",
    "    df_list.append(df)\n",
    "patients_df = pd.concat(df_list, ignore_index = True)\n",
    "patients_df.columns\n",
    "patients_df.to_csv(all_patients_path,index=False)"
   ]
  },
  {
   "cell_type": "markdown",
   "id": "705fb159-3928-483a-af0e-ad0c27569a26",
   "metadata": {},
   "source": [
    "**Data Cleaning and Standardization**\n",
    "\n",
    "**2. Time Conversion**\n",
    "\n",
    "**Key Steps:**\n",
    "\n",
    "\n",
    "- **a. The time column is converted from text (object) to proper datetime format using pd.to_datetime() so as to sort, filter, or calculate with it meaningfully.If time stays as a string (object), Python just sees it as plain text**\n",
    "\n",
    "  \n",
    "- **b. Any invalid or unrecognized time values are set to NaT (Not a Time) using errors='coerce'. c. A new column Patient_ID is added to uniquely identify each participant, derived from the filename.**"
   ]
  },
  {
   "cell_type": "code",
   "execution_count": 7,
   "id": "d8bdb3b7-af9a-4960-aa7d-1fde785b6a7c",
   "metadata": {},
   "outputs": [],
   "source": [
    "\n",
    "patients_df['time'] = pd.to_datetime(patients_df['time'], errors='coerce')\n",
    "\n"
   ]
  },
  {
   "cell_type": "markdown",
   "id": "235d86a7-5dfb-443c-a7a0-49c4902bffef",
   "metadata": {},
   "source": [
    "**Data Cleaning and Standardization**\n",
    "\n",
    "**3. Insulin Dose Cleaning**\n",
    "\n",
    "**Key Steps:**\n",
    "\n",
    "- **a.**The column `bolus_volume_delivered` (insulin dose administered) is checked for invalid negative values.**\n",
    "  \n",
    "- **b.**Since negative doses are not meaningful, all negative values are replaced with 0.**\n"
   ]
  },
  {
   "cell_type": "code",
   "execution_count": 8,
   "id": "a5e0b15b-33c4-4df7-b14a-aec0595f5176",
   "metadata": {},
   "outputs": [],
   "source": [
    "patients_df.loc[patients_df['bolus_volume_delivered'] < 0, 'bolus_volume_delivered'] = 0"
   ]
  },
  {
   "cell_type": "markdown",
   "id": "67779e80-370b-4a78-b57c-b226ce13106d",
   "metadata": {},
   "source": [
    "**Data Cleaning and Standardization**\n",
    "\n",
    "**4. Heart Rate**\n",
    "\n",
    "**Key Steps:**\n",
    "\n",
    "- **a. Rounded heart_rate values to the nearest integer.**\n",
    "  \n",
    "- **b. This ensures values are clinically interpretable, since heart rate is typically measured in whole beats per minute (BPM).**"
   ]
  },
  {
   "cell_type": "code",
   "execution_count": 9,
   "id": "a017b68c-32aa-4473-aa56-06db5f74dba8",
   "metadata": {},
   "outputs": [],
   "source": [
    "## Round heart_rate to nearest integer for Clinical/medical analysis \n",
    "patients_df['heart_rate'] = patients_df['heart_rate'].round(0).astype(int)"
   ]
  },
  {
   "cell_type": "markdown",
   "id": "6bee5f85-4999-4882-9683-84fca8979657",
   "metadata": {},
   "source": [
    "**Data Cleaning and Standardization**\n",
    "\n",
    "**5. Basal Insulin Rate**\n",
    "\n",
    "**Key Steps:**\n",
    "\n",
    "- **a. Created a new column basal_rate_cleaned by adjusting basal_rate to realistic increments of 0.025 units/hour (a common resolution in insulin pumps).**\n",
    "  \n",
    "- **b.Very small noise values (< 0.025) were clipped to 0 to avoid meaningless fluctuations.**"
   ]
  },
  {
   "cell_type": "code",
   "execution_count": 10,
   "id": "f0c375ec-4f11-4df2-8219-bef9b6dd86c7",
   "metadata": {},
   "outputs": [],
   "source": [
    "# changing to  realistic basal_rate for modeling/analysis.\n",
    "patients_df['basal_rate_cleaned'] = ((patients_df['basal_rate'] / 0.025).round() * 0.025).round(3)\n",
    "# clip tiny noise values\n",
    "patients_df.loc[patients_df['basal_rate_cleaned'] < 0.025, 'basal_rate_cleaned'] = 0"
   ]
  },
  {
   "cell_type": "markdown",
   "id": "3993565f-227a-4c41-958a-e7d24a53cc01",
   "metadata": {},
   "source": [
    "**Data Cleaning and Standardization**\n",
    "\n",
    "**6. Calories**\n",
    "\n",
    "**Key Steps:**\n",
    "\n",
    "- **a. Rounded calories to 1 decimal place for readability and consistent reporting.**"
   ]
  },
  {
   "cell_type": "code",
   "execution_count": 11,
   "id": "c1ae2e63-6031-493a-ab3d-56a98dc0f84a",
   "metadata": {},
   "outputs": [],
   "source": [
    "#Round calories to 1 decimal place\n",
    "patients_df['calories'] = patients_df['calories'].round(1)"
   ]
  },
  {
   "cell_type": "markdown",
   "id": "f56b933a-66a0-4e1f-8e13-7efa12a3e22d",
   "metadata": {},
   "source": [
    "**Data Cleaning and Standardization**\n",
    "\n",
    "**7. Glucose**\n",
    "\n",
    "**Key Steps:**\n",
    "\n",
    "- **a. Rounded glucose to 1 decimal place for easier comparison and clinical interpretation.**"
   ]
  },
  {
   "cell_type": "code",
   "execution_count": 12,
   "id": "7dd6125f-d8f0-40cf-aadf-380f7e75183f",
   "metadata": {},
   "outputs": [],
   "source": [
    "#Round glucose to 1 decimal place\n",
    "patients_df['glucose'] = patients_df['glucose'].round(1)"
   ]
  },
  {
   "cell_type": "markdown",
   "id": "4b1d4704-bf75-4416-be68-4e2c3147995f",
   "metadata": {},
   "source": [
    "<pre><strong>Created csv file \"ALL_PATIENTS.csv\" file \n",
    "after Data Cleaning and Standardization of all_Patients dataframe</strong></pre>  \n"
   ]
  },
  {
   "cell_type": "code",
   "execution_count": 14,
   "id": "5ec5c2cf-1417-4def-aa9b-5c587b5c052e",
   "metadata": {},
   "outputs": [],
   "source": [
    "#Write cleaned allpatients dataset into csv file\n",
    "patients_df.to_csv(all_patients_path,index=False)\n",
    "cleaned_all_patient_df = pd.DataFrame(patients_df)\n",
    "cleaned_all_patient_df.to_csv(\"cleaned_all_patient_df_output.csv\")"
   ]
  },
  {
   "cell_type": "markdown",
   "id": "d468b7c9-a0fb-4145-a5a4-fcc574c639f7",
   "metadata": {},
   "source": [
    "**Data Cleaning and Standardization for demographic dataset**  \n",
    "**csv file:'T1DM_patient_sleep_demographics_with_race.csv'**  \n",
    "**Rename columns according to HUPA standard naming conventions, and save the modified DataFrame to a new CSV file.**\n",
    "\n",
    "\n",
    "**Key Steps:**\n",
    "\n",
    "\n",
    "- **Read CSV:** Load the demographic dataset into a Pandas DataFrame.\n",
    "- **Rename Columns:** Align column names with HUPA naming standards for consistency.\n",
    "- **Save CSV:** Export the modified DataFrame to a new CSV without the index column.\n"
   ]
  },
  {
   "cell_type": "code",
   "execution_count": 15,
   "id": "0693de1a-f383-4af9-8826-8ffc976791cc",
   "metadata": {},
   "outputs": [],
   "source": [
    "# Created dataframe fro demographic csv file and \n",
    "# Renamed Column names as per the HUPA standred naming conventions and created new csv file\n",
    "demographic_df = pd.read_csv(demographic_path)\n",
    "demographic_df.rename(columns={\"Patient_ID\":\"patient_id\",\"Age\":\"age\",\"Gender\":\"gender\",\"Race\":\"race\",\"Average Sleep Duration (hrs)\":\"avg_sleep_duration_hrs\",\"Sleep Quality (1-10)\":\"sleep_quality_score\",\"% with Sleep Disturbances\":\"sleep_disturbances_percentage\"},inplace = True)\n",
    "demographic_df.columns\n",
    "demographic_df.to_csv(modified_demographic_path, index=False)"
   ]
  },
  {
   "cell_type": "markdown",
   "id": "8c97c565-60f5-4869-807b-9fb485cd5dcf",
   "metadata": {},
   "source": [
    "**Data Cleaning and Standardization of demographic dataset**\n",
    "\n",
    "**1. Patient Id Cleaning**\n",
    "\n",
    "**Key Steps:**\n",
    "\n",
    "- **a.**The column `patient_id` is checked for duplicate values.**\n",
    "  "
   ]
  },
  {
   "cell_type": "code",
   "execution_count": 16,
   "id": "3123e4f4-798a-44b5-a819-b1670fc7c18f",
   "metadata": {},
   "outputs": [
    {
     "data": {
      "text/plain": [
       "0"
      ]
     },
     "execution_count": 16,
     "metadata": {},
     "output_type": "execute_result"
    }
   ],
   "source": [
    "demographic_df['patient_id'].duplicated().sum()"
   ]
  },
  {
   "cell_type": "markdown",
   "id": "0f2809f4-20aa-43a3-ade0-f4d0e883856c",
   "metadata": {},
   "source": [
    "**Data Cleaning and Standardization**\n",
    "\n",
    "**1. Patient Age Cleaning**\n",
    "\n",
    "**Key Steps:**\n",
    "\n",
    "- **a.**The column `age` is checked for negative values.**\n",
    "- **b.**Since negative age is not meaningful, all negative values are replaced with 0.**\n",
    "\n",
    "  "
   ]
  },
  {
   "cell_type": "code",
   "execution_count": 17,
   "id": "5fee48ae-8d8d-4bc9-bde6-00b5605d68ad",
   "metadata": {},
   "outputs": [],
   "source": [
    "demographic_df.loc[demographic_df['age']<0,'age']=0"
   ]
  },
  {
   "cell_type": "markdown",
   "id": "a88ad508-7dc1-4b0e-b458-58228a8c8c4c",
   "metadata": {},
   "source": [
    "**Data Cleaning and Standardization**\n",
    "\n",
    "**2. Patient gender Check**\n",
    "\n",
    "**Key Steps:**\n",
    "\n",
    "- **a.**The column `gender` is checked for empty values.**\n",
    "- **b.**First assign (Null values) NaN to empty column values\n",
    "        and then Replace all empty values to NaN and the replace with 'Prefer not to say'.**\n",
    "\n",
    "  "
   ]
  },
  {
   "cell_type": "code",
   "execution_count": 18,
   "id": "5da450cf-7f9f-423d-9021-9615fa6dbcb3",
   "metadata": {},
   "outputs": [],
   "source": [
    "demographic_df['gender'] = demographic_df['gender'].replace(\"\",np.nan).fillna(\"Prefer not to say\")"
   ]
  },
  {
   "cell_type": "markdown",
   "id": "5c3cdb2a-2a39-4be4-9fac-090cc4f3f460",
   "metadata": {},
   "source": [
    "**Data Cleaning and Standardization**\n",
    "\n",
    "**3. Patient race Check**\n",
    "\n",
    "**Key Steps:**\n",
    "\n",
    "- **a.**The column `race` is checked for null values.**\n",
    "- **b.**All null values replaces with \"Other'.**\n",
    "\n",
    "  "
   ]
  },
  {
   "cell_type": "code",
   "execution_count": 19,
   "id": "ee8efc11-28c1-4695-baf9-6ebb47a4deee",
   "metadata": {},
   "outputs": [],
   "source": [
    "demographic_df['race'] = demographic_df['race'].replace(\"\",np.nan).fillna(\"Other\")\n"
   ]
  },
  {
   "cell_type": "markdown",
   "id": "46e5a5d3-9ade-4b11-a295-7f19c3d38372",
   "metadata": {},
   "source": [
    "**Data Cleaning and Standardization**\n",
    "\n",
    "**4. Patient avg_sleep_duration_hrs Check**\n",
    "\n",
    "**Key Steps:**  \n",
    "**replace(\"\",0) replaces empty values to zero**  \n",
    "**mask(lambda x: x<0,0): replaces negative values to zero**\n",
    "- **a.**The column `avg_sleep_duartion_hrs` is checked for null values.**\n",
    "- **b.**All null and negative values replaced with  0'. 0 is not sleeping**\n",
    "- **c.**All values greater than 24 replaced with  24'. 24 is maximum sleeping**\n",
    "\n",
    "  "
   ]
  },
  {
   "cell_type": "code",
   "execution_count": 20,
   "id": "7fa8adb0-363a-4f6d-8adf-25f474da0d18",
   "metadata": {},
   "outputs": [],
   "source": [
    "demographic_df['avg_sleep_duration_hrs'] = demographic_df['avg_sleep_duration_hrs'].replace(\"\",0).mask(lambda x: x < 0,0)\n",
    "demographic_df['avg_sleep_duration_hrs'] = demographic_df['avg_sleep_duration_hrs'].mask(lambda x: x >24 ,24)"
   ]
  },
  {
   "cell_type": "markdown",
   "id": "b63de6f8-bb8c-43e3-8ba1-05de4c1c19d5",
   "metadata": {},
   "source": [
    "**Data Cleaning and Standardization**\n",
    "\n",
    "**5. Patient sleep_quality_score Check**\n",
    "**Considered value range: 1-10**  \n",
    "**Key Steps:**  \n",
    "**replace(\"\",1) replaces empty values to one**  \n",
    "**mask(lambda x: x<1,1): replaces negative values to one**\n",
    "- **a.**The column `sleep_quality_score` is checked for null values.**\n",
    "- **b.**All null and less than one values replaced with  1'. 1 is worst score**\n",
    "- **c.**All values greater than 10 replaced with  10'. 10 is good score**\n",
    "\n",
    "  "
   ]
  },
  {
   "cell_type": "code",
   "execution_count": 21,
   "id": "78005c40-ac1e-4f11-98be-cfa54068e941",
   "metadata": {},
   "outputs": [],
   "source": [
    "demographic_df['sleep_quality_score'] = demographic_df['sleep_quality_score'].replace(\"\",1).mask(lambda x: x < 1,1)\n",
    "demographic_df['sleep_quality_score'] = demographic_df['sleep_quality_score'].mask(lambda x: x >10 ,10)"
   ]
  },
  {
   "cell_type": "markdown",
   "id": "435458c2-79b2-43dd-aa8e-76705b9cbaf3",
   "metadata": {},
   "source": [
    "**Data Cleaning and Standardization**\n",
    "\n",
    "**6. Patient sleep_disturbances_percentage Check**\n",
    "**Considered value range: 0-100**  \n",
    "**Key Steps:**  \n",
    "**replace(\"\",0) replaces empty values to zero**  \n",
    "**mask(lambda x: x<0,0): replaces negative values to one**\n",
    "- **a.**The column `sleep_disturbances_percentage` is checked for null values.**\n",
    "- **b.**All null and less than one values replaced with  0'. 0 is lower quality**\n",
    "- **c.**All values greater than 100 replaced with  100'. 100 is higher quality**\n",
    "\n",
    "  "
   ]
  },
  {
   "cell_type": "code",
   "execution_count": 22,
   "id": "abf1e5ee-d7c9-4b7a-a1b9-55206346d78e",
   "metadata": {},
   "outputs": [],
   "source": [
    "demographic_df['sleep_disturbances_percentage'] = demographic_df['sleep_disturbances_percentage'].replace(\"\",0).mask(lambda x: x < 0,0)\n",
    "demographic_df['sleep_disturbances_percentage'] = demographic_df['sleep_disturbances_percentage'].mask(lambda x: x >100 ,100)"
   ]
  },
  {
   "cell_type": "markdown",
   "id": "a42b7600-c3db-4d4a-bb4a-ac7521c1f69d",
   "metadata": {},
   "source": [
    "**This code merges the combined patient dataset with the demographic dataset on patient_id and saves the resulting DataFrame as a new CSV file.**\n",
    "\n",
    "\n",
    "**Key Steps:**\n",
    "\n",
    "\n",
    "- **Merge DataFrames:** Use pd.merge() with how=\"inner\" to combine patient and demographic datasets based on patient_id.\n",
    "- **Save CSV:** Export the merged DataFrame to a CSV file without including the index column.\n",
    "- **Verify Columns:** Check the resulting columns to ensure all patient and demographic data are included."
   ]
  },
  {
   "cell_type": "code",
   "execution_count": 23,
   "id": "4616ae15-5f5d-46cd-aded-fa6aec3cbc21",
   "metadata": {},
   "outputs": [
    {
     "data": {
      "text/plain": [
       "Index(['time', 'glucose', 'calories', 'heart_rate', 'steps', 'basal_rate',\n",
       "       'bolus_volume_delivered', 'carb_input', 'patient_id',\n",
       "       'basal_rate_cleaned', 'age', 'gender', 'race', 'avg_sleep_duration_hrs',\n",
       "       'sleep_quality_score', 'sleep_disturbances_percentage'],\n",
       "      dtype='object')"
      ]
     },
     "execution_count": 23,
     "metadata": {},
     "output_type": "execute_result"
    }
   ],
   "source": [
    "#Dataframe for merged allpatients and demographic data and created csv file\n",
    "patients_demographic_df = pd.merge(patients_df,demographic_df, on =\"patient_id\", how=\"inner\")\n",
    "patients_demographic_df.to_csv(patients_demographic_path, index=False)\n",
    "patients_demographic_df.columns"
   ]
  },
  {
   "cell_type": "code",
   "execution_count": 24,
   "id": "fbf92d1f-d541-484a-857a-d25c35e5a144",
   "metadata": {},
   "outputs": [
    {
     "name": "stdout",
     "output_type": "stream",
     "text": [
      "Index(['time', 'glucose', 'calories', 'heart_rate', 'steps', 'basal_rate',\n",
      "       'bolus_volume_delivered', 'carb_input', 'patient_id',\n",
      "       'basal_rate_cleaned', 'age', 'gender', 'race', 'avg_sleep_duration_hrs',\n",
      "       'sleep_quality_score', 'sleep_disturbances_percentage'],\n",
      "      dtype='object')\n"
     ]
    }
   ],
   "source": [
    "patients_demographic_df.shape\n",
    "print(patients_demographic_df.columns)\n",
    "missingvalues_percentage = patients_demographic_df.isnull().mean() * 100"
   ]
  },
  {
   "cell_type": "code",
   "execution_count": 26,
   "id": "cc538c2e-76aa-4c01-8cb2-cd891e9a7f64",
   "metadata": {},
   "outputs": [
    {
     "data": {
      "image/png": "[encoded data removed]",
      "text/plain": [
       "<Figure size 1000x600 with 1 Axes>"
      ]
     },
     "metadata": {},
     "output_type": "display_data"
    }
   ],
   "source": [
    "# Convert Series → DataFrame\n",
    "missing_df = missingvalues_percentage.reset_index()\n",
    "missing_df.columns = [\"column\", \"missing_pct\"]\n",
    "\n",
    "plt.figure(figsize=(10,6))\n",
    "sns.barplot(data=missing_df, x=\"missing_pct\", y=\"column\", color=\"skyblue\")\n",
    "plt.title(\"Percentage of Missing Values per Column\", fontsize=15)\n",
    "plt.xlabel(\"Percentage Missing Values\", fontsize=12)\n",
    "plt.ylabel(\"Column Names\", fontsize=12)\n",
    "plt.show()\n"
   ]
  },
  {
   "cell_type": "markdown",
   "id": "18bb17bb-148c-419e-a038-40844efd8b17",
   "metadata": {},
   "source": [
    "<pre><strong>Data Quality Report\n",
    "\n",
    "This Python function generates a comprehensive data quality report for a given DataFrame. It checks for missing values, duplicates, data types, numeric ranges, and impossible or outlier values.\n",
    "\n",
    "Key Checks Performed:\n",
    "\n",
    "Dataset shape – rows and columns.\n",
    "\n",
    "Missing values – column-wise count.\n",
    "\n",
    "Duplicate rows – total duplicates in the dataset.\n",
    "\n",
    "Data types – helps ensure correct types for analysis.\n",
    "\n",
    "Patient ID uniqueness – checks for repeated patients.\n",
    "\n",
    "Numeric summary – min, max, mean values of numeric columns.\n",
    "\n",
    "Time range – earliest and latest timestamps.\n",
    "\n",
    "Impossible/outlier values – negative values or unrealistic glucose readings.\n",
    "\n",
    "Value ranges – ensures columns like glucose, steps, heart rate, and calories fall in reasonable ranges</strong></pre>"
   ]
  },
  {
   "cell_type": "markdown",
   "id": "08791e81-ff1c-4117-b079-4e12a5a6a191",
   "metadata": {},
   "source": [
    "**Data Quality Report for all Patients dataFrame**"
   ]
  },
  {
   "cell_type": "code",
   "execution_count": 27,
   "id": "5ee554ea-e4a9-47e2-ad3c-a2e6a0f879e4",
   "metadata": {},
   "outputs": [
    {
     "name": "stdout",
     "output_type": "stream",
     "text": [
      "DATA QUALITY REPORT\n",
      "==================================================\n",
      "Rows: 309392, Columns: 10\n",
      "==================================================\n",
      "**************************************************\n",
      "\n",
      " Check for Missing Values:\n",
      "**************************************************\n",
      "\n",
      " Number of missing column values are:\n",
      " time                      0\n",
      "glucose                   0\n",
      "calories                  0\n",
      "heart_rate                0\n",
      "steps                     0\n",
      "basal_rate                0\n",
      "bolus_volume_delivered    0\n",
      "carb_input                0\n",
      "patient_id                0\n",
      "basal_rate_cleaned        0\n",
      "dtype: int64  \n",
      "**************************************************\n",
      "\n",
      " Check for Duplicate Rows:\n",
      "**************************************************\n",
      "\n",
      " Number of duplicate rows  are : 0\n",
      "**************************************************\n",
      "\n",
      " Check for Column Data Types:\n",
      "**************************************************\n",
      "time                      datetime64[ns]\n",
      "glucose                          float64\n",
      "calories                         float64\n",
      "heart_rate                         int64\n",
      "steps                            float64\n",
      "basal_rate                       float64\n",
      "bolus_volume_delivered           float64\n",
      "carb_input                       float64\n",
      "patient_id                        object\n",
      "basal_rate_cleaned               float64\n",
      "dtype: object\n",
      "**************************************************\n",
      "\n",
      " Check for Patient IDs uniqueness and number of records:\n",
      "**************************************************\n",
      "Number of Unique Patient IDs: 25\n",
      "Total patient records are  : 309392\n",
      "**************************************************\n",
      "\n",
      " Check for Numeric Column Summary:\n",
      "**************************************************\n",
      "                                        min                  max  \\\n",
      "time                    2018-06-13 18:40:00  2022-05-18 12:15:00   \n",
      "glucose                                40.0                444.0   \n",
      "calories                                0.0                106.4   \n",
      "heart_rate                             32.0                196.0   \n",
      "steps                                   0.0                842.0   \n",
      "basal_rate                              0.0                 0.25   \n",
      "bolus_volume_delivered                  0.0                 19.8   \n",
      "carb_input                              0.0                130.0   \n",
      "basal_rate_cleaned                      0.0                 0.25   \n",
      "\n",
      "                                                 mean  \n",
      "time                    2020-09-24 13:06:07.680159232  \n",
      "glucose                                    141.425051  \n",
      "calories                                     8.822431  \n",
      "heart_rate                                  76.990381  \n",
      "steps                                       30.825005  \n",
      "basal_rate                                   0.041324  \n",
      "bolus_volume_delivered                       0.066077  \n",
      "carb_input                                   0.052718  \n",
      "basal_rate_cleaned                           0.041691  \n",
      "**************************************************\n",
      "\n",
      " Check for Time Range to check if time is continuous :\n",
      "**************************************************\n",
      "Earliest time : 2018-06-13 18:40:00\n",
      "Latest time  : 2022-05-18 12:15:00\n",
      "**************************************************\n",
      "\n",
      " Check for Impossible or outlier values:\n",
      "**************************************************\n",
      "Negative glucose values: 0\n",
      "Negative steps values: 0\n",
      "Negative calories values: 0\n",
      "Negative heart_rate values: 0\n",
      "Negative glucose: 0\n",
      "Unrealistic glucose > 600: 0\n",
      "Negative Insulin dose administered(bolus_volume_delivered) values: 0\n",
      "**************************************************\n",
      "\n",
      " Check for range of  values for Glucose Hear rate ,Calories ,Insulin dose administered (units) and Steps:\n",
      "**************************************************\n",
      "Glucose range: 40.0 - 444.0\n",
      "Heart rate range: 32 - 196\n",
      "Calories range: 0.0 - 106.4\n",
      "Steps range: 0.0 - 842.0\n",
      "Insulin dose administered (units) range: 0.0 - 0.25\n",
      "==================================================\n",
      "DATA QUALITY REPORT Completed\n",
      "DATA QUALITY REPORT Completed\n"
     ]
    }
   ],
   "source": [
    "#Data Quality Report for all Patients dataFrame\n",
    "data_quality_report_common(patients_df)\n",
    "allpatients_data_quality_report(patients_df)\n",
    "print(\"DATA QUALITY REPORT Completed\")\n"
   ]
  },
  {
   "cell_type": "markdown",
   "id": "5dd86284-85fc-4393-8f7a-678440b7e0d2",
   "metadata": {},
   "source": [
    "**Qaultiy report for demographic dataframe**"
   ]
  },
  {
   "cell_type": "code",
   "execution_count": 28,
   "id": "8659f156-10a7-4240-819f-b6659ff098af",
   "metadata": {},
   "outputs": [
    {
     "name": "stdout",
     "output_type": "stream",
     "text": [
      "DATA QUALITY REPORT\n",
      "==================================================\n",
      "Rows: 25, Columns: 7\n",
      "==================================================\n",
      "**************************************************\n",
      "\n",
      " Check for Missing Values:\n",
      "**************************************************\n",
      "\n",
      " Number of missing column values are:\n",
      " patient_id                       0\n",
      "age                              0\n",
      "gender                           0\n",
      "race                             0\n",
      "avg_sleep_duration_hrs           0\n",
      "sleep_quality_score              0\n",
      "sleep_disturbances_percentage    0\n",
      "dtype: int64  \n",
      "**************************************************\n",
      "\n",
      " Check for Duplicate Rows:\n",
      "**************************************************\n",
      "\n",
      " Number of duplicate rows  are : 0\n",
      "**************************************************\n",
      "\n",
      " Check for Column Data Types:\n",
      "**************************************************\n",
      "patient_id                        object\n",
      "age                                int64\n",
      "gender                            object\n",
      "race                              object\n",
      "avg_sleep_duration_hrs           float64\n",
      "sleep_quality_score              float64\n",
      "sleep_disturbances_percentage      int64\n",
      "dtype: object\n",
      "**************************************************\n",
      "\n",
      " Check for Patient IDs uniqueness and number of records:\n",
      "**************************************************\n",
      "Number of Unique Patient IDs: 25\n",
      "Total patient records are  : 25\n",
      "**************************************************\n",
      "\n",
      " Check for Numeric Column Summary:\n",
      "**************************************************\n",
      "                                min   max    mean\n",
      "age                            20.0  74.0  46.680\n",
      "avg_sleep_duration_hrs          5.0   7.2   5.972\n",
      "sleep_quality_score             4.1   7.9   5.952\n",
      "sleep_disturbances_percentage  30.0  80.0  52.800\n",
      "**************************************************\n",
      "\n",
      " Check for Impossible or outlier values:\n",
      "**************************************************\n",
      "Number of invalid age value (0-100) 0\n",
      "Number of invalid Gender values not ['Male'], ['Female'] 0\n",
      "Number of avg sleep hours greater than 24 0\n",
      "Number of invalid sleep quality score value(1-10) 0\n",
      "Number of invalid sleep disturbances percentage >100 0\n",
      "==================================================\n",
      "DATA QUALITY REPORT Completed\n"
     ]
    }
   ],
   "source": [
    "#Data Quality Report for demographic data\n",
    "data_quality_report_common(demographic_df)\n",
    "demographic_data_quality_report(demographic_df)\n",
    "print(\"DATA QUALITY REPORT Completed\")\n"
   ]
  },
  {
   "cell_type": "code",
   "execution_count": 29,
   "id": "a6265a90-fee6-43fd-a877-4ccd890b008e",
   "metadata": {},
   "outputs": [
    {
     "name": "stdout",
     "output_type": "stream",
     "text": [
      "DATA QUALITY REPORT\n",
      "==================================================\n",
      "Rows: 309392, Columns: 16\n",
      "==================================================\n",
      "**************************************************\n",
      "\n",
      " Check for Missing Values:\n",
      "**************************************************\n",
      "\n",
      " Number of missing column values are:\n",
      " time                             0\n",
      "glucose                          0\n",
      "calories                         0\n",
      "heart_rate                       0\n",
      "steps                            0\n",
      "basal_rate                       0\n",
      "bolus_volume_delivered           0\n",
      "carb_input                       0\n",
      "patient_id                       0\n",
      "basal_rate_cleaned               0\n",
      "age                              0\n",
      "gender                           0\n",
      "race                             0\n",
      "avg_sleep_duration_hrs           0\n",
      "sleep_quality_score              0\n",
      "sleep_disturbances_percentage    0\n",
      "dtype: int64  \n",
      "**************************************************\n",
      "\n",
      " Check for Duplicate Rows:\n",
      "**************************************************\n",
      "\n",
      " Number of duplicate rows  are : 0\n",
      "**************************************************\n",
      "\n",
      " Check for Column Data Types:\n",
      "**************************************************\n",
      "time                             datetime64[ns]\n",
      "glucose                                 float64\n",
      "calories                                float64\n",
      "heart_rate                                int64\n",
      "steps                                   float64\n",
      "basal_rate                              float64\n",
      "bolus_volume_delivered                  float64\n",
      "carb_input                              float64\n",
      "patient_id                               object\n",
      "basal_rate_cleaned                      float64\n",
      "age                                       int64\n",
      "gender                                   object\n",
      "race                                     object\n",
      "avg_sleep_duration_hrs                  float64\n",
      "sleep_quality_score                     float64\n",
      "sleep_disturbances_percentage             int64\n",
      "dtype: object\n",
      "**************************************************\n",
      "\n",
      " Check for Patient IDs uniqueness and number of records:\n",
      "**************************************************\n",
      "Number of Unique Patient IDs: 25\n",
      "Total patient records are  : 309392\n",
      "**************************************************\n",
      "\n",
      " Check for Numeric Column Summary:\n",
      "**************************************************\n",
      "                                               min                  max  \\\n",
      "time                           2018-06-13 18:40:00  2022-05-18 12:15:00   \n",
      "glucose                                       40.0                444.0   \n",
      "calories                                       0.0                106.4   \n",
      "heart_rate                                    32.0                196.0   \n",
      "steps                                          0.0                842.0   \n",
      "basal_rate                                     0.0                 0.25   \n",
      "bolus_volume_delivered                         0.0                 19.8   \n",
      "carb_input                                     0.0                130.0   \n",
      "basal_rate_cleaned                             0.0                 0.25   \n",
      "age                                           20.0                 74.0   \n",
      "avg_sleep_duration_hrs                         5.0                  7.2   \n",
      "sleep_quality_score                            4.1                  7.9   \n",
      "sleep_disturbances_percentage                 30.0                 80.0   \n",
      "\n",
      "                                                        mean  \n",
      "time                           2020-09-24 13:06:07.680159232  \n",
      "glucose                                           141.425051  \n",
      "calories                                            8.822431  \n",
      "heart_rate                                         76.990381  \n",
      "steps                                              30.825005  \n",
      "basal_rate                                          0.041324  \n",
      "bolus_volume_delivered                              0.066077  \n",
      "carb_input                                          0.052718  \n",
      "basal_rate_cleaned                                  0.041691  \n",
      "age                                                53.332727  \n",
      "avg_sleep_duration_hrs                              5.665791  \n",
      "sleep_quality_score                                 5.916159  \n",
      "sleep_disturbances_percentage                      54.376972  \n",
      "**************************************************\n",
      "\n",
      " Check for Time Range to check if time is continuous :\n",
      "**************************************************\n",
      "Earliest time : 2018-06-13 18:40:00\n",
      "Latest time  : 2022-05-18 12:15:00\n",
      "**************************************************\n",
      "\n",
      " Check for Impossible or outlier values:\n",
      "**************************************************\n",
      "Negative glucose values: 0\n",
      "Negative steps values: 0\n",
      "Negative calories values: 0\n",
      "Negative heart_rate values: 0\n",
      "Negative glucose: 0\n",
      "Unrealistic glucose > 600: 0\n",
      "Negative Insulin dose administered(bolus_volume_delivered) values: 0\n",
      "**************************************************\n",
      "\n",
      " Check for range of  values for Glucose Hear rate ,Calories ,Insulin dose administered (units) and Steps:\n",
      "**************************************************\n",
      "Glucose range: 40.0 - 444.0\n",
      "Heart rate range: 32 - 196\n",
      "Calories range: 0.0 - 106.4\n",
      "Steps range: 0.0 - 842.0\n",
      "Insulin dose administered (units) range: 0.0 - 0.25\n",
      "==================================================\n",
      "DATA QUALITY REPORT Completed\n",
      "**************************************************\n",
      "\n",
      " Check for Impossible or outlier values:\n",
      "**************************************************\n",
      "Number of invalid age value (0-100) 0\n",
      "Number of invalid Gender values not ['Male'], ['Female'] 0\n",
      "Number of avg sleep hours greater than 24 0\n",
      "Number of invalid sleep quality score value(1-10) 0\n",
      "Number of invalid sleep disturbances percentage >100 0\n",
      "==================================================\n",
      "DATA QUALITY REPORT Completed\n"
     ]
    }
   ],
   "source": [
    "#Data Quality Report for merged all patients and demographic data\n",
    "data_quality_report_common(patients_demographic_df)\n",
    "allpatients_data_quality_report(patients_demographic_df)\n",
    "demographic_data_quality_report(patients_demographic_df)\n",
    "print(\"DATA QUALITY REPORT Completed\")\n"
   ]
  }
 ],
 "metadata": {
  "kernelspec": {
   "display_name": "Python 3 (ipykernel)",
   "language": "python",
   "name": "python3"
  },
  "language_info": {
   "codemirror_mode": {
    "name": "ipython",
    "version": 3
   },
   "file_extension": ".py",
   "mimetype": "text/x-python",
   "name": "python",
   "nbconvert_exporter": "python",
   "pygments_lexer": "ipython3",
   "version": "3.12.7"
  }
 },
 "nbformat": 4,
 "nbformat_minor": 5
}
