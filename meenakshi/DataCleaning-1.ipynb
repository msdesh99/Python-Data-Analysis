{
 "cells": [
  {
   "cell_type": "code",
   "execution_count": 257,
   "id": "6be8bf11-eb01-4b21-b2f9-c97b07c062ae",
   "metadata": {},
   "outputs": [],
   "source": [
    "import pandas as pd\n",
    "import glob\n",
    "import os"
   ]
  },
  {
   "cell_type": "code",
   "execution_count": 376,
   "id": "146269c8-956c-4517-b061-8f6857400bdf",
   "metadata": {},
   "outputs": [],
   "source": [
    "#Global Variables\n",
    "path = \"../HUPA-UC Diabetes Dataset/\"\n",
    "demographic_path = path + \"DEMOGRAPHIC.csv\"\n",
    "all_patients_path = path + \"ALL_PATIENTS.csv\"\n",
    "patients_demographic_path = path +\"PATIENTS_WITH_DEMOGRAPHIC.csv\""
   ]
  },
  {
   "cell_type": "code",
   "execution_count": 379,
   "id": "af2cf9cd-a45e-45cd-9d81-778cb2737442",
   "metadata": {},
   "outputs": [
    {
     "data": {
      "text/plain": [
       "Index(['patient_id', 'age', 'gender', 'race', 'avg_sleep_duration_hrs',\n",
       "       'sleep_quality_score', 'sleep_disturbances_percentage'],\n",
       "      dtype='object')"
      ]
     },
     "execution_count": 379,
     "metadata": {},
     "output_type": "execute_result"
    }
   ],
   "source": [
    "#Asking Pandas to parse datetime while reading csv file\n",
    "#Checking null values in all 3 datasets\n",
    "patients_df = pd.read_csv(all_patients_path, parse_dates=[\"time\"])\n",
    "patients_df[\"time\"].dt.day==13\n",
    "\n",
    "demographic_df = pd.read_csv(demographic_path)\n",
    "patients_demographic_df = pd.read_csv(patients_demographic_path, parse_dates=[\"time\"]) \n",
    "demographic_df.columns\n",
    "patients_df.columns\n",
    "print('is null in patients csv ',patients_df.isnull().sum())\n",
    "print('is null in demographic ', demographic_df.isnull().sum())\n",
    "print('is null in patients demographic merge', patient_demographic_df.isnull().sum())"
   ]
  },
  {
   "cell_type": "code",
   "execution_count": 359,
   "id": "3657121f-5be2-477d-8b39-6c6cb132c196",
   "metadata": {},
   "outputs": [
    {
     "data": {
      "text/plain": [
       "array(['HUPA0001P', 'HUPA0002P', 'HUPA0003P', 'HUPA0004P', 'HUPA0005P',\n",
       "       'HUPA0006P', 'HUPA0007P', 'HUPA0009P', 'HUPA0010P', 'HUPA0011P',\n",
       "       'HUPA0014P', 'HUPA0015P', 'HUPA0016P', 'HUPA0017P', 'HUPA0018P',\n",
       "       'HUPA0019P', 'HUPA0020P', 'HUPA0021P', 'HUPA0022P', 'HUPA0023P',\n",
       "       'HUPA0024P', 'HUPA0025P', 'HUPA0026P', 'HUPA0027P', 'HUPA0028P'],\n",
       "      dtype=object)"
      ]
     },
     "execution_count": 359,
     "metadata": {},
     "output_type": "execute_result"
    }
   ],
   "source": [
    "#Total patients\n",
    "demographic_df[\"patient_id\"].unique()"
   ]
  },
  {
   "cell_type": "code",
   "execution_count": 371,
   "id": "29b31f8d-e37f-42c5-9fe4-d143e29a5499",
   "metadata": {},
   "outputs": [
    {
     "data": {
      "text/html": [
       "<div>\n",
       "<style scoped>\n",
       "    .dataframe tbody tr th:only-of-type {\n",
       "        vertical-align: middle;\n",
       "    }\n",
       "\n",
       "    .dataframe tbody tr th {\n",
       "        vertical-align: top;\n",
       "    }\n",
       "\n",
       "    .dataframe thead th {\n",
       "        text-align: right;\n",
       "    }\n",
       "</style>\n",
       "<table border=\"1\" class=\"dataframe\">\n",
       "  <thead>\n",
       "    <tr style=\"text-align: right;\">\n",
       "      <th></th>\n",
       "      <th>time</th>\n",
       "      <th>glucose</th>\n",
       "      <th>calories</th>\n",
       "      <th>heart_rate</th>\n",
       "      <th>steps</th>\n",
       "      <th>basal_rate</th>\n",
       "      <th>bolus_volume_delivered</th>\n",
       "      <th>carb_input</th>\n",
       "      <th>patient_id</th>\n",
       "    </tr>\n",
       "  </thead>\n",
       "  <tbody>\n",
       "  </tbody>\n",
       "</table>\n",
       "</div>"
      ],
      "text/plain": [
       "Empty DataFrame\n",
       "Columns: [time, glucose, calories, heart_rate, steps, basal_rate, bolus_volume_delivered, carb_input, patient_id]\n",
       "Index: []"
      ]
     },
     "execution_count": 371,
     "metadata": {},
     "output_type": "execute_result"
    }
   ],
   "source": [
    "#find records for 8,12,13\n",
    "patients_df[(patients_df[\"patient_id\"]==\"HUPA0008P\")]"
   ]
  },
  {
   "cell_type": "code",
   "execution_count": 1,
   "id": "4dfeff7b-4c8a-4634-8305-8863b30205a4",
   "metadata": {},
   "outputs": [
    {
     "ename": "NameError",
     "evalue": "name 'demographic_df' is not defined",
     "output_type": "error",
     "traceback": [
      "\u001b[0;31m---------------------------------------------------------------------------\u001b[0m",
      "\u001b[0;31mNameError\u001b[0m                                 Traceback (most recent call last)",
      "Cell \u001b[0;32mIn[1], line 1\u001b[0m\n\u001b[0;32m----> 1\u001b[0m demographic_df\u001b[38;5;241m.\u001b[39mcolumns\n\u001b[1;32m      2\u001b[0m demographic_df[\u001b[38;5;124m'\u001b[39m\u001b[38;5;124mpatient_id\u001b[39m\u001b[38;5;124m'\u001b[39m]\n\u001b[1;32m      3\u001b[0m patients_df[\u001b[38;5;124m'\u001b[39m\u001b[38;5;124mpatient_id\u001b[39m\u001b[38;5;124m'\u001b[39m]\n",
      "\u001b[0;31mNameError\u001b[0m: name 'demographic_df' is not defined"
     ]
    }
   ],
   "source": [
    "\n",
    "demographic_df.columns\n",
    "demographic_df['patient_id']\n",
    "patients_df['patient_id']\n",
    "patients_df[patients_df['patient_id']=='HUPA0001P']\n",
    "lst = patients_df[\"patient_id\"].unique()\n",
    "dayLst = patients_df[\"time\"].dt.day\n",
    "dayLst.unique()\n",
    "records=[]\n",
    "for day in dayLst.unique():\n",
    "    for id in lst:\n",
    "        rows = patients_df[(patients_df[\"patient_id\"]==id) & (patients_df[\"time\"].dt.day==day)]\n",
    "        #print(f'id: {id} day: {day} count: {len(rows)}')\n",
    "        records.append([id,day,len(rows)])\n",
    "records_df= pd.DataFrame(records,columns=[\"patient_id\",\"day\",\"records\"])\n",
    "records_df"
   ]
  },
  {
   "cell_type": "code",
   "execution_count": 290,
   "id": "62c787bd-4109-407a-9103-e3fcdc9f51d0",
   "metadata": {},
   "outputs": [
    {
     "data": {
      "text/plain": [
       "array([13, 14, 15, 16, 17, 18, 19, 20, 21, 22, 23, 24, 25, 26, 27,  9, 10,\n",
       "       11, 12, 28, 29, 30,  1,  2,  7,  8, 31,  3,  4,  5,  6],\n",
       "      dtype=int32)"
      ]
     },
     "execution_count": 290,
     "metadata": {},
     "output_type": "execute_result"
    }
   ],
   "source": [
    "records_df[\"day\"].unique()"
   ]
  },
  {
   "cell_type": "code",
   "execution_count": 322,
   "id": "3da7dfde-6fbb-4717-9fde-f2ed29acf15a",
   "metadata": {},
   "outputs": [
    {
     "name": "stdout",
     "output_type": "stream",
     "text": [
      "['HUPA0001P' 'HUPA0002P' 'HUPA0003P' 'HUPA0004P' 'HUPA0005P' 'HUPA0006P'\n",
      " 'HUPA0007P' 'HUPA0009P' 'HUPA0010P' 'HUPA0011P' 'HUPA0014P' 'HUPA0015P'\n",
      " 'HUPA0016P' 'HUPA0017P' 'HUPA0018P' 'HUPA0019P' 'HUPA0020P' 'HUPA0021P'\n",
      " 'HUPA0022P' 'HUPA0023P' 'HUPA0024P' 'HUPA0025P']\n"
     ]
    }
   ],
   "source": [
    "#Find Patients having zero records in some day  # 26,27,28 having records for all days\n",
    "zero_records = records_df[records_df[\"records\"] == 0].sort_values(by=\"patient_id\")[\"patient_id\"].unique()\n",
    "print(zero_records)"
   ]
  },
  {
   "cell_type": "code",
   "execution_count": 339,
   "id": "627fad9f-d3e3-4636-ba64-89582a25db99",
   "metadata": {},
   "outputs": [
    {
     "data": {
      "text/html": [
       "<div>\n",
       "<style scoped>\n",
       "    .dataframe tbody tr th:only-of-type {\n",
       "        vertical-align: middle;\n",
       "    }\n",
       "\n",
       "    .dataframe tbody tr th {\n",
       "        vertical-align: top;\n",
       "    }\n",
       "\n",
       "    .dataframe thead th {\n",
       "        text-align: right;\n",
       "    }\n",
       "</style>\n",
       "<table border=\"1\" class=\"dataframe\">\n",
       "  <thead>\n",
       "    <tr style=\"text-align: right;\">\n",
       "      <th></th>\n",
       "      <th>patient_id</th>\n",
       "      <th>day</th>\n",
       "      <th>records</th>\n",
       "    </tr>\n",
       "  </thead>\n",
       "  <tbody>\n",
       "  </tbody>\n",
       "</table>\n",
       "</div>"
      ],
      "text/plain": [
       "Empty DataFrame\n",
       "Columns: [patient_id, day, records]\n",
       "Index: []"
      ]
     },
     "execution_count": 339,
     "metadata": {},
     "output_type": "execute_result"
    }
   ],
   "source": [
    "#Find the day on which not a single patient has records\n",
    "#Total records for each day\n",
    "#getting records column gorup by day\n",
    "days = records_df.groupby(\"day\")[\"records\"].sum()\n",
    "days\n",
    "#getting records for each patient\n",
    "patients = records_df.groupby(\"patient_id\")[\"records\"].sum()\n",
    "patients\n",
    "records_df[(records_df[\"patient_id\"]==\"HUPA00011P\")]"
   ]
  },
  {
   "cell_type": "code",
   "execution_count": null,
   "id": "5f7fc0bc-b33a-48d2-9fe5-30a78a9835ef",
   "metadata": {},
   "outputs": [],
   "source": []
  },
  {
   "cell_type": "code",
   "execution_count": 315,
   "id": "8393b989-609a-41a2-870d-41a5eae258b6",
   "metadata": {},
   "outputs": [
    {
     "data": {
      "text/html": [
       "<div>\n",
       "<style scoped>\n",
       "    .dataframe tbody tr th:only-of-type {\n",
       "        vertical-align: middle;\n",
       "    }\n",
       "\n",
       "    .dataframe tbody tr th {\n",
       "        vertical-align: top;\n",
       "    }\n",
       "\n",
       "    .dataframe thead th {\n",
       "        text-align: right;\n",
       "    }\n",
       "</style>\n",
       "<table border=\"1\" class=\"dataframe\">\n",
       "  <thead>\n",
       "    <tr style=\"text-align: right;\">\n",
       "      <th></th>\n",
       "      <th>patient_id</th>\n",
       "      <th>day</th>\n",
       "      <th>records</th>\n",
       "    </tr>\n",
       "  </thead>\n",
       "  <tbody>\n",
       "    <tr>\n",
       "      <th>25</th>\n",
       "      <td>HUPA0001P</td>\n",
       "      <td>14</td>\n",
       "      <td>288</td>\n",
       "    </tr>\n",
       "    <tr>\n",
       "      <th>26</th>\n",
       "      <td>HUPA0002P</td>\n",
       "      <td>14</td>\n",
       "      <td>288</td>\n",
       "    </tr>\n",
       "    <tr>\n",
       "      <th>27</th>\n",
       "      <td>HUPA0003P</td>\n",
       "      <td>14</td>\n",
       "      <td>288</td>\n",
       "    </tr>\n",
       "    <tr>\n",
       "      <th>28</th>\n",
       "      <td>HUPA0004P</td>\n",
       "      <td>14</td>\n",
       "      <td>288</td>\n",
       "    </tr>\n",
       "    <tr>\n",
       "      <th>29</th>\n",
       "      <td>HUPA0005P</td>\n",
       "      <td>14</td>\n",
       "      <td>288</td>\n",
       "    </tr>\n",
       "    <tr>\n",
       "      <th>30</th>\n",
       "      <td>HUPA0006P</td>\n",
       "      <td>14</td>\n",
       "      <td>288</td>\n",
       "    </tr>\n",
       "    <tr>\n",
       "      <th>33</th>\n",
       "      <td>HUPA0010P</td>\n",
       "      <td>14</td>\n",
       "      <td>288</td>\n",
       "    </tr>\n",
       "    <tr>\n",
       "      <th>34</th>\n",
       "      <td>HUPA0011P</td>\n",
       "      <td>14</td>\n",
       "      <td>288</td>\n",
       "    </tr>\n",
       "    <tr>\n",
       "      <th>35</th>\n",
       "      <td>HUPA0014P</td>\n",
       "      <td>14</td>\n",
       "      <td>288</td>\n",
       "    </tr>\n",
       "    <tr>\n",
       "      <th>39</th>\n",
       "      <td>HUPA0018P</td>\n",
       "      <td>14</td>\n",
       "      <td>288</td>\n",
       "    </tr>\n",
       "    <tr>\n",
       "      <th>40</th>\n",
       "      <td>HUPA0019P</td>\n",
       "      <td>14</td>\n",
       "      <td>288</td>\n",
       "    </tr>\n",
       "    <tr>\n",
       "      <th>47</th>\n",
       "      <td>HUPA0026P</td>\n",
       "      <td>14</td>\n",
       "      <td>1152</td>\n",
       "    </tr>\n",
       "    <tr>\n",
       "      <th>48</th>\n",
       "      <td>HUPA0027P</td>\n",
       "      <td>14</td>\n",
       "      <td>5472</td>\n",
       "    </tr>\n",
       "    <tr>\n",
       "      <th>49</th>\n",
       "      <td>HUPA0028P</td>\n",
       "      <td>14</td>\n",
       "      <td>864</td>\n",
       "    </tr>\n",
       "  </tbody>\n",
       "</table>\n",
       "</div>"
      ],
      "text/plain": [
       "   patient_id  day  records\n",
       "25  HUPA0001P   14      288\n",
       "26  HUPA0002P   14      288\n",
       "27  HUPA0003P   14      288\n",
       "28  HUPA0004P   14      288\n",
       "29  HUPA0005P   14      288\n",
       "30  HUPA0006P   14      288\n",
       "33  HUPA0010P   14      288\n",
       "34  HUPA0011P   14      288\n",
       "35  HUPA0014P   14      288\n",
       "39  HUPA0018P   14      288\n",
       "40  HUPA0019P   14      288\n",
       "47  HUPA0026P   14     1152\n",
       "48  HUPA0027P   14     5472\n",
       "49  HUPA0028P   14      864"
      ]
     },
     "execution_count": 315,
     "metadata": {},
     "output_type": "execute_result"
    }
   ],
   "source": [
    "#Find the days for patient 1 having zero records\n",
    "records_df[(records_df[\"patient_id\"]==\"HUPA0001P\") & (records_df[\"records\"]==0)].sort_values(by=[\"day\"])\n",
    "#find the days for all patients having zero records \n",
    "records_df[(records_df[\"records\"]==0)].sort_values(by=[\"day\"])\n",
    "#find the records for day 1\n",
    "records_df[(records_df[\"day\"]==1)].sort_values(by=[\"records\",\"patient_id\"], ascending=[True,True]) #only patients: 7,9,15,16,17,26,27,28 have >0 records\n",
    "#find the records for day 2\n",
    "records_df[(records_df[\"day\"]==2)].sort_values(by=[\"records\",\"patient_id\"])#only patients: 7,9,15,16,17,26,27,28 have >0 records\n",
    "\n",
    "#find the records for day 3 #only patients: 15,16,17,18,19,20,21,26,27,28 have >0 records\n",
    "records_df[(records_df[\"day\"]==3)].sort_values(by=[\"records\",\"patient_id\"]).sort_values(by=\"patient_id\")\n",
    "\n",
    "#find the records for day 4 #only patients: 15,16,17,18,19,20,21,26,27,28 have >0 records\n",
    "records_df[(records_df[\"day\"]==4)].sort_values(by=[\"records\",\"patient_id\"]).sort_values(by=\"patient_id\")\n",
    "\n",
    "#find the records for day 5 #only patients: 15,16,17,18,19,20,21,26,27,28 have >0 records\n",
    "records_df[(records_df[\"day\"]==5)].sort_values(by=[\"records\",\"patient_id\"]).sort_values(by=\"patient_id\")\n",
    "\n",
    "#find the records for day 6 #only patients: 15,16,17,18,19,20,21,26,27,28 have >0 records\n",
    "records_df[(records_df[\"day\"]==6)].sort_values(by=[\"records\",\"patient_id\"]).sort_values(by=\"patient_id\")\n",
    "\n",
    "#find the records for day 7 #only patients: 10,11,14,15,16,17,18,19,20,21,26,27,28 have >0 records\n",
    "records_df[(records_df[\"day\"]==7)].sort_values(by=[\"records\",\"patient_id\"]).sort_values(by=\"patient_id\")\n",
    "\n",
    "#find the records for day 8 #only patients: 10,11,14,15,16,17,18,19,20,21,26,27,28 have >0 records\n",
    "records_df[(records_df[\"day\"]==8)].sort_values(by=[\"records\",\"patient_id\"]).sort_values(by=\"patient_id\")\n",
    "\n",
    "#find the records for day 9 #only patients: 4,5,6,10,11,14,15,16,17,18,19,20,21,26,27,28 have >0 records\n",
    "records_df[(records_df[\"day\"]==9) & (records_df[\"records\"]>0)].sort_values(by=[\"records\",\"patient_id\"]).sort_values(by=\"patient_id\")\n",
    "#print(records_df.loc[(records_df[\"day\"]==9) & (records_df[\"records\"]>0), [\"patient_id\"]].sort_values(by=\"patient_id\"))\n",
    "#narr = records_df.loc[(records_df[\"day\"]==9) & (records_df[\"records\"]>0), [\"patient_id\"]].sort_values(by=\"patient_id\").to_numpy()\n",
    "#narr\n",
    "\n",
    "#find the records for day 10 #only patients: 4,5,6,10,11,14,18,19,20,21,26,27,28 have >0 records\n",
    "records_df[(records_df[\"day\"]==10) & (records_df[\"records\"]>0)].sort_values(by=[\"records\",\"patient_id\"]).sort_values(by=\"patient_id\")\n",
    "\n",
    "#find the records for day 11 #only patients: 4,5,6,10,11,14,18,19,20,21,26,27,28 have >0 records\n",
    "records_df[(records_df[\"day\"]==11) & (records_df[\"records\"]>0)].sort_values(by=[\"records\",\"patient_id\"]).sort_values(by=\"patient_id\")\n",
    "\n",
    "#find the records for day 12 #only patients: 4,5,6,10,11,14,18,19,20,26,27,28 have >0 records\n",
    "records_df[(records_df[\"day\"]==12) & (records_df[\"records\"]>0)].sort_values(by=[\"records\",\"patient_id\"]).sort_values(by=\"patient_id\")\n",
    "\n",
    "#find the records for day 13 #only patients: 1,2,3,4,5,6,10,11,14,18,19,20,26,27,28 have >0 records\n",
    "records_df[(records_df[\"day\"]==13) & (records_df[\"records\"]>0)].sort_values(by=[\"records\",\"patient_id\"]).sort_values(by=\"patient_id\")\n",
    "\n",
    "#find the records for day 14 #only patients: 1,2,3,4,5,6,10,11,14,18,19,26,27,28 have >0 records\n",
    "records_df[(records_df[\"day\"]==14) & (records_df[\"records\"]>0)].sort_values(by=[\"records\",\"patient_id\"]).sort_values(by=\"patient_id\")\n",
    "\n",
    "#find the records for day 9 #only patients: 4,5,6,10,11,14,15,16,17,18,19,20,21,26,27,28 have >0 records\n",
    "records_df[(records_df[\"day\"]==9) & (records_df[\"records\"]>0)].sort_values(by=[\"records\",\"patient_id\"]).sort_values(by=\"patient_id\")\n",
    "\n"
   ]
  },
  {
   "cell_type": "code",
   "execution_count": 157,
   "id": "d1fc52f8-7345-4a39-9b6d-e3e7953de102",
   "metadata": {},
   "outputs": [
    {
     "name": "stdout",
     "output_type": "stream",
     "text": [
      "Empty DataFrame\n",
      "Columns: [time, glucose, calories, heart_rate, steps, basal_rate, bolus_volume_delivered, carb_input, patient_id]\n",
      "Index: []\n",
      "Empty DataFrame\n",
      "Columns: [time, glucose, calories, heart_rate, steps, basal_rate, bolus_volume_delivered, carb_input, patient_id, age, gender, race, avg_sleep_duration_hrs, sleep_quality_score, sleep_disturbances_Percentage]\n",
      "Index: []\n",
      "Empty DataFrame\n",
      "Columns: [patient_id, age, gender, race, avg_sleep_duration_hrs, sleep_quality_score, sleep_disturbances_percentage]\n",
      "Index: []\n"
     ]
    }
   ],
   "source": [
    "#check duplicates in all 3 datasets\n",
    "print(patient_df[patients_df.duplicated()])\n",
    "print(patient_demographic_df[patients_demographic_df.duplicated()])\n",
    "print(demographic_df[demographic_df.duplicated()])\n"
   ]
  },
  {
   "cell_type": "code",
   "execution_count": 107,
   "id": "80f273ad-498c-4f22-8b1b-c75f748156b7",
   "metadata": {},
   "outputs": [
    {
     "name": "stdout",
     "output_type": "stream",
     "text": [
      "Empty DataFrame\n",
      "Columns: [time, glucose, calories, heart_rate, steps, basal_rate, bolus_volume_delivered, carb_input, patient_id]\n",
      "Index: []\n"
     ]
    }
   ],
   "source": [
    "#Check if any duplicates for time and patient_id\n",
    "#single record is expected for patient at specific time\n",
    "patients_df.columns\n",
    "print(patients_df[patients_df.duplicated(subset=[\"time\",\"patient_id\"])])"
   ]
  },
  {
   "cell_type": "code",
   "execution_count": null,
   "id": "62405455-feb6-4cb8-baed-e75286c3f3d2",
   "metadata": {},
   "outputs": [],
   "source": []
  }
 ],
 "metadata": {
  "kernelspec": {
   "display_name": "Python 3 (ipykernel)",
   "language": "python",
   "name": "python3"
  },
  "language_info": {
   "codemirror_mode": {
    "name": "ipython",
    "version": 3
   },
   "file_extension": ".py",
   "mimetype": "text/x-python",
   "name": "python",
   "nbconvert_exporter": "python",
   "pygments_lexer": "ipython3",
   "version": "3.12.7"
  }
 },
 "nbformat": 4,
 "nbformat_minor": 5
}
